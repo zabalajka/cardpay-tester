{
 "cells": [
  {
   "attachments": {},
   "cell_type": "markdown",
   "metadata": {},
   "source": [
    "# CardPay"
   ]
  },
  {
   "cell_type": "code",
   "execution_count": 46,
   "metadata": {
    "dotnet_interactive": {
     "language": "mermaid"
    },
    "polyglot_notebook": {
     "kernelName": "mermaid"
    },
    "vscode": {
     "languageId": "polyglot-notebook"
    }
   },
   "outputs": [
    {
     "data": {
      "text/html": [
       "<div class=\"mermaidMarkdownContainer\" style=\"background-color:white\">\n",
       "<link rel=\"stylesheet\" href=\"https://cdnjs.cloudflare.com/ajax/libs/font-awesome/6.2.0/css/all.min.css\">\n",
       "<script type=\"text/javascript\">\n",
       "\r\n",
       "loadMermaid_b63391804dd8488c8d99dda46b6f91f0 = () => {\n",
       " \r\n",
       "        (require.config({ 'paths': { 'context': '9.1.7', 'mermaidUri' : 'https://cdn.jsdelivr.net/npm/mermaid@9.1.7/dist/mermaid.min', 'urlArgs': 'cacheBuster=018c09bd4fe645c9a9ee1eac4813730a' }}) || require)(['mermaidUri'], (mermaid) => {\n",
       "\r\n",
       "            let renderTarget = document.getElementById('b63391804dd8488c8d99dda46b6f91f0');\r\n",
       "            mermaid.mermaidAPI.render( \r\n",
       "                'mermaid_b63391804dd8488c8d99dda46b6f91f0', \r\n",
       "                `sequenceDiagram\n",
       "    actor User as Client\n",
       "    participant Shop\n",
       "    participant CardPay\n",
       "    participant Bank as Client's bank\n",
       "\n",
       "    User->>Shop: Choose products\n",
       "    User->>Shop: Complete order\n",
       "    activate Shop\n",
       "    Shop->>Shop: Generate URL parameters\n",
       "    Shop->>User: Redirect to payment gate\n",
       "    User->>CardPay: \n",
       "    User->>CardPay: Enter credit card details\n",
       "    CardPay->>Bank: Process transaction\n",
       "    Bank->>CardPay: \n",
       "    CardPay->>User: Redirect to shop\n",
       "    User->>Shop: \n",
       "    Shop->>Shop: Verify URL parameters\n",
       "    Shop->>User: Order is paid\n",
       "    deactivate Shop`, \r\n",
       "                g => {\r\n",
       "                    renderTarget.innerHTML = g \r\n",
       "                });\r\n",
       "        },\r\n",
       "        (error) => {\r\n",
       "            console.log(error);\r\n",
       "        });\r\n",
       "}\n",
       "// ensure `require` is available globally\r\n",
       "if ((typeof(require) !==  typeof(Function)) || (typeof(require.config) !== typeof(Function))) {\r\n",
       "    let require_script = document.createElement('script');\r\n",
       "    require_script.setAttribute('src', 'https://cdnjs.cloudflare.com/ajax/libs/require.js/2.3.6/require.min.js');\r\n",
       "    require_script.setAttribute('type', 'text/javascript');\r\n",
       "    \r\n",
       "    \r\n",
       "    require_script.onload = function() {\r\n",
       "        loadMermaid_b63391804dd8488c8d99dda46b6f91f0();\r\n",
       "    };\r\n",
       "\r\n",
       "    document.getElementsByTagName('head')[0].appendChild(require_script);\r\n",
       "}\r\n",
       "else {\r\n",
       "    loadMermaid_b63391804dd8488c8d99dda46b6f91f0();\r\n",
       "}\r\n",
       "\n",
       "</script>\n",
       "<div id=\"b63391804dd8488c8d99dda46b6f91f0\"></div>\n",
       "</div>\n"
      ]
     },
     "metadata": {},
     "output_type": "display_data"
    }
   ],
   "source": [
    "sequenceDiagram\n",
    "    actor User as Client\n",
    "    participant Shop\n",
    "    participant CardPay\n",
    "    participant Bank as Client's bank\n",
    "\n",
    "    User->>Shop: Choose products\n",
    "    User->>Shop: Complete order\n",
    "    activate Shop\n",
    "    Shop->>Shop: Generate URL parameters\n",
    "    Shop->>User: Redirect to payment gate\n",
    "    User->>CardPay: \n",
    "    User->>CardPay: Enter credit card details\n",
    "    CardPay->>Bank: Process transaction\n",
    "    Bank->>CardPay: \n",
    "    CardPay->>User: Redirect to shop\n",
    "    User->>Shop: \n",
    "    Shop->>Shop: Verify URL parameters\n",
    "    Shop->>User: Order is paid\n",
    "    deactivate Shop"
   ]
  },
  {
   "attachments": {},
   "cell_type": "markdown",
   "metadata": {},
   "source": [
    "## Setup"
   ]
  },
  {
   "cell_type": "code",
   "execution_count": 11,
   "metadata": {
    "dotnet_interactive": {
     "language": "csharp"
    },
    "polyglot_notebook": {
     "kernelName": "csharp"
    },
    "vscode": {
     "languageId": "polyglot-notebook"
    }
   },
   "outputs": [
    {
     "data": {
      "text/html": [
       "<div><div></div><div></div><div><strong>Installed Packages</strong><ul><li><span>BouncyCastle.Cryptography, 2.2.1</span></li></ul></div></div>"
      ]
     },
     "metadata": {},
     "output_type": "display_data"
    }
   ],
   "source": [
    "// nugets, imports\n",
    "#r \"nuget:BouncyCastle.Cryptography\""
   ]
  },
  {
   "cell_type": "code",
   "execution_count": 12,
   "metadata": {
    "dotnet_interactive": {
     "language": "csharp"
    },
    "polyglot_notebook": {
     "kernelName": "csharp"
    },
    "vscode": {
     "languageId": "polyglot-notebook"
    }
   },
   "outputs": [],
   "source": [
    "// usings, configuration\n",
    "\n",
    "using System.Globalization;\n",
    "using System.IO;\n",
    "using System.Text.Json;\n",
    "using System.Text.Json.Nodes;\n",
    "using Org.BouncyCastle.Crypto;\n",
    "using Org.BouncyCastle.Crypto.Parameters;\n",
    "using Org.BouncyCastle.OpenSsl;\n",
    "using Org.BouncyCastle.Security;\n",
    "\n",
    "#!value --name keys_json --from-file ./keys.json"
   ]
  },
  {
   "cell_type": "code",
   "execution_count": 13,
   "metadata": {
    "dotnet_interactive": {
     "language": "csharp"
    },
    "polyglot_notebook": {
     "kernelName": "csharp"
    },
    "vscode": {
     "languageId": "polyglot-notebook"
    }
   },
   "outputs": [],
   "source": [
    "// Utils - formatting and crypto\n",
    "public class Utils\n",
    "{\n",
    "    public static byte[] ConvertHexStringToByteArray(string hexString)\n",
    "    {\n",
    "        if (hexString.Length % 2 != 0)\n",
    "        {\n",
    "            throw new ArgumentException(String.Format(CultureInfo.InvariantCulture, \"The binary key cannot have an odd number of digits: {0}\", hexString));\n",
    "        }\n",
    "\n",
    "        byte[] data = new byte[hexString.Length / 2];\n",
    "        for (int index = 0; index < data.Length; index++)\n",
    "        {\n",
    "            string byteValue = hexString.Substring(index * 2, 2);\n",
    "            data[index] = byte.Parse(byteValue, NumberStyles.HexNumber, CultureInfo.InvariantCulture);\n",
    "        }\n",
    "\n",
    "        return data; \n",
    "    }\n",
    "\n",
    "    public static string ConvertByteArrayToHexString(byte[] buffer)\n",
    "    {\n",
    "        string s = BitConverter.ToString(buffer).Replace(\"-\", \"\").ToLowerInvariant();\n",
    "        return s;\n",
    "    }\n",
    "\n",
    "    public static byte[] CalculateHMAC(string message, byte[] key)\n",
    "    {\n",
    "        var fn = new System.Security.Cryptography.HMACSHA256(key);\n",
    "        byte[] HMAC_output = fn.ComputeHash(Encoding.ASCII.GetBytes(message));\n",
    "        return HMAC_output;\n",
    "    }\n",
    "\n",
    "    public static byte[] CalculateSignature(string message, string PRIVATE_PEM)\n",
    "    {\n",
    "        var parameters = new PemReader(new StringReader(PRIVATE_PEM)).ReadObject();\n",
    "        var signer = SignerUtilities.GetSigner(\"SHA256withECDSA\");\n",
    "        // signer.Init(true, ((AsymmetricCipherKeyPair)bankPrivateKey).Private);\n",
    "        signer.Init(true, (ECPrivateKeyParameters)parameters);\n",
    "        byte[] responseToVerify_Bytes = Encoding.UTF8.GetBytes(message);\n",
    "        signer.BlockUpdate(responseToVerify_Bytes, 0, responseToVerify_Bytes.Length);\n",
    "        byte[] signature = signer.GenerateSignature();\n",
    "        return signature;\n",
    "        // string signature = Utils.ConvertByteArrayToHexString(signedResponse);\n",
    "        // signature.Display();\n",
    "    }\n",
    "\n",
    "    public static bool IsSignatureValid(string message, byte[] signature, string PUBLIC_PEM)\n",
    "    {\n",
    "        var paramters = new PemReader(new StringReader(PUBLIC_PEM)).ReadObject();\n",
    "        var signer = SignerUtilities.GetSigner(\"SHA256withECDSA\");\n",
    "        signer.Init(false, (ICipherParameters)paramters);\n",
    "        byte[] responseToVerify_Bytes = Encoding.UTF8.GetBytes(message);\n",
    "        signer.BlockUpdate(responseToVerify_Bytes, 0, responseToVerify_Bytes.Length);\n",
    "        bool isSignatureValid = signer.VerifySignature(signature);\n",
    "        return isSignatureValid;\n",
    "    }\n",
    "}"
   ]
  },
  {
   "cell_type": "code",
   "execution_count": 14,
   "metadata": {
    "dotnet_interactive": {
     "language": "csharp"
    },
    "polyglot_notebook": {
     "kernelName": "csharp"
    },
    "vscode": {
     "languageId": "polyglot-notebook"
    }
   },
   "outputs": [],
   "source": [
    "// configuration\n",
    "string MID = \"9999\"; // merchant ID\n",
    "string ECDSA_KEY = \"2\"; // private key ID used by bank to sign response\n",
    "\n",
    "string URL = \"https://moja.tatrabanka.sk/cgi-bin/e-commerce/start/example.jsp\";\n",
    "string RURL = \"https://moja.tatrabanka.sk/cgi-bin/e-commerce/start/example.jsp\";\n",
    "string REM = \"\"; // e.g. \"payment@example.com\";"
   ]
  },
  {
   "cell_type": "code",
   "execution_count": 15,
   "metadata": {
    "dotnet_interactive": {
     "language": "csharp"
    },
    "polyglot_notebook": {
     "kernelName": "csharp"
    },
    "vscode": {
     "languageId": "polyglot-notebook"
    }
   },
   "outputs": [],
   "source": [
    "// signing keys helpers\n",
    "#!share keys_json --from value \n",
    "var keys = JsonSerializer.Deserialize<JsonNode>(keys_json);\n",
    "// keys.Display();\n",
    "\n",
    "Func<string> KEY = () => keys[\"merchants\"][MID][\"KEY\"].GetValue<string>();\n",
    "Func<byte[]> KEYo = () => Utils.ConvertHexStringToByteArray(KEY());\n",
    "Func<string> PRIVATE_PEM = () => keys[\"bank-keys\"][ECDSA_KEY][\"PRIVATE_PEM\"]?.GetValue<string>();\n",
    "Func<object> PRIVATE_PEMo = () => new PemReader(new StringReader(PRIVATE_PEM())).ReadObject();\n",
    "Func<string> PUBLIC_PEM = () => keys[\"bank-keys\"][ECDSA_KEY][\"PUBLIC_PEM\"].GetValue<string>();\n",
    "Func<object> PUBLIC_PEMo = () => new PemReader(new StringReader(PUBLIC_PEM())).ReadObject();"
   ]
  },
  {
   "attachments": {},
   "cell_type": "markdown",
   "metadata": {},
   "source": [
    "## Request\n",
    "\n",
    "```\n",
    "Request = MID + AMT + CURR + VS + E2E + TXN + RURL + IPC + NAME + REM + TPAY + CID + ECID + TDS_* + TIMESTAMP + HMAC + AREDIR + LANG\n",
    "P = MID + AMT + CURR + VS + E2E + TXN + RURL + IPC + NAME + REM + TPAY + CID + ECID + TDS_* + TIMESTAMP\n",
    "HMAC = HMAC_SHA256(P)\n",
    "```"
   ]
  },
  {
   "cell_type": "code",
   "execution_count": 16,
   "metadata": {
    "dotnet_interactive": {
     "language": "csharp"
    },
    "polyglot_notebook": {
     "kernelName": "csharp"
    },
    "vscode": {
     "languageId": "polyglot-notebook"
    }
   },
   "outputs": [],
   "source": [
    "// request parameters (P)\n",
    "string TIMESTAMP = \"01092014125505\"; // DDMMYYYYhhmmss\n",
    "string AMT = \"1234.50\"; // decimal dot\n",
    "string CURR = \"978\"; // EUR\n",
    "string VS = \"1111\";\n",
    "string E2E = false ? \"Y\" : \"N\";\n",
    "string NAME = \"Jan Pokusny\";\n",
    "string IPC = \"1.2.3.4\";\n",
    "string TXN = \"\";\n",
    "string TPAY = \"N\";\n",
    "string CID = \"\";\n",
    "string ECID = \"\";"
   ]
  },
  {
   "cell_type": "code",
   "execution_count": 17,
   "metadata": {
    "dotnet_interactive": {
     "language": "csharp"
    },
    "polyglot_notebook": {
     "kernelName": "csharp"
    },
    "vscode": {
     "languageId": "polyglot-notebook"
    }
   },
   "outputs": [
    {
     "data": {
      "text/plain": [
       "P = 99991234.509781111https://moja.tatrabanka.sk/cgi-bin/e-commerce/start/example.jsp1.2.3.4Jan Pokusny01092014125505"
      ]
     },
     "metadata": {},
     "output_type": "display_data"
    },
    {
     "data": {
      "text/plain": [
       "HMAC = 574b763f4afd4167b10143d71dc2054615c3fa76877dc08a7cc9592a741b3eb5"
      ]
     },
     "metadata": {},
     "output_type": "display_data"
    }
   ],
   "source": [
    "// HMAC\n",
    "string HMAC_input = MID + AMT + CURR + VS + (E2E == \"Y\" ? \"Y\" : \"\") + TXN + RURL + IPC + NAME + REM + (TPAY == \"Y\" ? \"Y\" : \"\") + CID + ECID + TIMESTAMP;\n",
    "display($\"P = {HMAC_input}\");\n",
    "\n",
    "string HMAC_outputString = Utils.ConvertByteArrayToHexString( Utils.CalculateHMAC(HMAC_input, KEYo()) );\n",
    "display($\"HMAC = {HMAC_outputString}\");"
   ]
  },
  {
   "attachments": {},
   "cell_type": "markdown",
   "metadata": {},
   "source": [
    "## Response\n",
    "\n",
    "```\n",
    "Response = AMT + CURR + VS + RES + AC + TID + TIMESTAMP + HMAC + ECDSA_KEY + ECDSA;\n",
    "R = AMT + CURR + VS + RES + AC + TID + TIMESTAMP;\n",
    "HMAC = HMAC_SHA256(R);\n",
    "ECDSA = SHA256withECDSA(R + HMAC);\n",
    "```"
   ]
  },
  {
   "cell_type": "code",
   "execution_count": 18,
   "metadata": {
    "dotnet_interactive": {
     "language": "csharp"
    },
    "polyglot_notebook": {
     "kernelName": "csharp"
    },
    "vscode": {
     "languageId": "polyglot-notebook"
    }
   },
   "outputs": [],
   "source": [
    "// request parameters (R)\n",
    "\n",
    "// AMT, CURR, VS, TIMESTAMP must match exactly\n",
    "string RES = \"OK\";\n",
    "string AC = \"123456\";\n",
    "string TID = \"1\";\n",
    "string ECDSA_expected = \"304502207a4e403a83a15dab431eb7e9c7862916d436948b182a8bcbedd9e0c8c60c07dd022100d693e438695aac16ab6c4e184d02c1b33856e63d0f965aeee4b11832ce8c1b04\";"
   ]
  },
  {
   "cell_type": "code",
   "execution_count": 19,
   "metadata": {
    "dotnet_interactive": {
     "language": "csharp"
    },
    "polyglot_notebook": {
     "kernelName": "csharp"
    },
    "vscode": {
     "languageId": "polyglot-notebook"
    }
   },
   "outputs": [
    {
     "data": {
      "text/plain": [
       "R = 1234.509781111OK123456101092014125505"
      ]
     },
     "metadata": {},
     "output_type": "display_data"
    },
    {
     "data": {
      "text/plain": [
       "HMAC = 8df96c2603831046d0e3502cab1ddb7d9b629d7f09a44aee7abbec0be3f2d971"
      ]
     },
     "metadata": {},
     "output_type": "display_data"
    }
   ],
   "source": [
    "// HMAC\n",
    "string HMAC_input2 = AMT + CURR + VS + RES + AC + TID + TIMESTAMP;\n",
    "display($\"R = {HMAC_input2}\");\n",
    "byte[] HMAC_output2 = Utils.CalculateHMAC(HMAC_input2, KEYo());\n",
    "string HMAC_output2String = Utils.ConvertByteArrayToHexString(HMAC_output2);\n",
    "display($\"HMAC = {HMAC_output2String}\");\n",
    "\n",
    "string responseWithHmac = HMAC_input2 + HMAC_output2String;"
   ]
  },
  {
   "attachments": {},
   "cell_type": "markdown",
   "metadata": {},
   "source": [
    "### Sign response"
   ]
  },
  {
   "cell_type": "code",
   "execution_count": 20,
   "metadata": {
    "dotnet_interactive": {
     "language": "csharp"
    },
    "polyglot_notebook": {
     "kernelName": "csharp"
    },
    "vscode": {
     "languageId": "polyglot-notebook"
    }
   },
   "outputs": [
    {
     "data": {
      "text/plain": [
       "Signature = 3044022034e9f370bbe143e0cb427dc8cfc4aff683d6c72b3ee5cbee435c3c2193b6e78c0220372be5ced20bdae45fbc4c1bf8ff972e170b0cff2a1913d85ca5e0dabba5fb96"
      ]
     },
     "metadata": {},
     "output_type": "display_data"
    },
    {
     "data": {
      "text/plain": [
       "Signature valid = True"
      ]
     },
     "metadata": {},
     "output_type": "display_data"
    }
   ],
   "source": [
    "// sign with private key & verify signature with public key\n",
    "string signatureString = null;\n",
    "\n",
    "if (PRIVATE_PEM != null)\n",
    "{\n",
    "    byte[] signature = Utils.CalculateSignature(responseWithHmac, PRIVATE_PEM());\n",
    "    signatureString = Utils.ConvertByteArrayToHexString(signature);\n",
    "    display($\"Signature = {signatureString}\");\n",
    "}\n",
    "else\n",
    "{\n",
    "    display(\"No private key, using ECDSA_expected\");\n",
    "}\n",
    "\n",
    "// verify signature with public key\n",
    "bool isSignatureValid = Utils.IsSignatureValid(responseWithHmac, Utils.ConvertHexStringToByteArray(signatureString ?? ECDSA_expected), PUBLIC_PEM());\n",
    "display($\"Signature valid = {isSignatureValid}\");"
   ]
  }
 ],
 "metadata": {
  "kernelspec": {
   "display_name": "Python 3",
   "language": "python",
   "name": "python3"
  },
  "language_info": {
   "name": "python",
   "version": "3.10.7"
  },
  "orig_nbformat": 4
 },
 "nbformat": 4,
 "nbformat_minor": 2
}
